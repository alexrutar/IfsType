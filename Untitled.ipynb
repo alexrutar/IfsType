{
 "cells": [
  {
   "cell_type": "code",
   "execution_count": 1,
   "metadata": {},
   "outputs": [],
   "source": [
    "from sympy import *\n",
    "from sympy.abc import x\n",
    "from sympy.polys.polytools import Poly, PurePoly\n",
    "from sympy.polys.numberfields import minpoly\n",
    "from sympy.polys.domains import QQ"
   ]
  },
  {
   "cell_type": "code",
   "execution_count": 3,
   "metadata": {},
   "outputs": [
    {
     "name": "stdout",
     "output_type": "stream",
     "text": [
      "PurePoly(x - 2, x, domain='QQ') PurePoly(5*x - 2, x, domain='QQ')\n"
     ]
    }
   ],
   "source": [
    "expr=sqrt(2)-1\n",
    "min_pol = minpoly(expr,polys=True,domain=QQ)\n",
    "pol2 = PurePoly(x**3,domain=QQ)\n",
    "q,r = div(pol2, min_pol, domain=QQ)\n",
    "print(q,r)"
   ]
  },
  {
   "cell_type": "code",
   "execution_count": 4,
   "metadata": {},
   "outputs": [
    {
     "data": {
      "text/latex": [
       "$\\displaystyle -7 + 5 \\sqrt{2}$"
      ],
      "text/plain": [
       "-7 + 5*sqrt(2)"
      ]
     },
     "execution_count": 4,
     "metadata": {},
     "output_type": "execute_result"
    }
   ],
   "source": [
    "pol2.eval(expr)"
   ]
  },
  {
   "cell_type": "code",
   "execution_count": 17,
   "metadata": {},
   "outputs": [
    {
     "data": {
      "text/plain": [
       "[1, 0]"
      ]
     },
     "execution_count": 17,
     "metadata": {},
     "output_type": "execute_result"
    }
   ],
   "source": [
    "from sympy.polys.numberfields import AlgebraicNumber\n",
    "dom = QQ.algebraic_field(sqrt(expr))\n",
    "alph = AlgebraicNumber(expr, domain=dom)\n",
    "alph.coeffs()"
   ]
  },
  {
   "cell_type": "code",
   "execution_count": null,
   "metadata": {},
   "outputs": [],
   "source": []
  }
 ],
 "metadata": {
  "kernelspec": {
   "display_name": "Python 3",
   "language": "python",
   "name": "python3"
  },
  "language_info": {
   "codemirror_mode": {
    "name": "ipython",
    "version": 3
   },
   "file_extension": ".py",
   "mimetype": "text/x-python",
   "name": "python",
   "nbconvert_exporter": "python",
   "pygments_lexer": "ipython3",
   "version": "3.7.3"
  }
 },
 "nbformat": 4,
 "nbformat_minor": 2
}
