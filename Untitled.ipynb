{
 "cells": [
  {
   "cell_type": "code",
   "execution_count": 40,
   "metadata": {},
   "outputs": [],
   "source": [
    "from sympy import *\n",
    "from sympy.abc import x\n",
    "from sympy.polys.polytools import Poly, PurePoly\n",
    "from sympy.polys.numberfields import minpoly\n",
    "from sympy.polys.polytools import pdiv, gcdex\n",
    "from sympy.polys.domains import QQ"
   ]
  },
  {
   "cell_type": "code",
   "execution_count": 3,
   "metadata": {},
   "outputs": [
    {
     "name": "stdout",
     "output_type": "stream",
     "text": [
      "PurePoly(x - 2, x, domain='QQ') PurePoly(5*x - 2, x, domain='QQ')\n"
     ]
    }
   ],
   "source": [
    "expr=sqrt(2)-1\n",
    "min_pol = minpoly(expr,polys=True,domain=QQ)\n",
    "pol2 = PurePoly(x**3,domain=QQ)\n",
    "q,r = div(pol2, min_pol, domain=QQ)\n",
    "print(q,r)"
   ]
  },
  {
   "cell_type": "code",
   "execution_count": 4,
   "metadata": {},
   "outputs": [
    {
     "data": {
      "text/latex": [
       "$\\displaystyle -7 + 5 \\sqrt{2}$"
      ],
      "text/plain": [
       "-7 + 5*sqrt(2)"
      ]
     },
     "execution_count": 4,
     "metadata": {},
     "output_type": "execute_result"
    }
   ],
   "source": [
    "pol2.eval(expr)"
   ]
  },
  {
   "cell_type": "code",
   "execution_count": 55,
   "metadata": {},
   "outputs": [
    {
     "name": "stdout",
     "output_type": "stream",
     "text": [
      "8.72903153798093\n",
      "8.72903153798093\n"
     ]
    }
   ],
   "source": [
    "expr =((Rational(9)+sqrt(Rational(69)))/Rational(18))**(Rational(1,3))+((Rational(9)-sqrt(Rational(69)))/Rational(18))**(Rational(1,3))\n",
    "minp = minpoly(expr,polys=True,domain=QQ)\n",
    "pol = PurePoly(x**6+x**3+1)\n",
    "rem = pol.rem(minp)\n",
    "print(float(rem.eval(expr)))\n",
    "print(float(pol.eval(expr)))"
   ]
  },
  {
   "cell_type": "code",
   "execution_count": 58,
   "metadata": {},
   "outputs": [
    {
     "name": "stdout",
     "output_type": "stream",
     "text": [
      "0.324717957244746\n",
      "0.324717957244746\n"
     ]
    }
   ],
   "source": [
    "expr =((Rational(9)+sqrt(Rational(69)))/Rational(18))**(Rational(1,3))+((Rational(9)-sqrt(Rational(69)))/Rational(18))**(Rational(1,3))\n",
    "minp = minpoly(expr,polys=True,domain=QQ)\n",
    "pol = PurePoly(x**6-x**3)\n",
    "inv = pol.invert(minp)\n",
    "print(float(inv.eval(expr)))\n",
    "print(1/float(pol.eval(expr)))"
   ]
  },
  {
   "cell_type": "code",
   "execution_count": null,
   "metadata": {},
   "outputs": [],
   "source": []
  }
 ],
 "metadata": {
  "kernelspec": {
   "display_name": "Python 3",
   "language": "python",
   "name": "python3"
  },
  "language_info": {
   "codemirror_mode": {
    "name": "ipython",
    "version": 3
   },
   "file_extension": ".py",
   "mimetype": "text/x-python",
   "name": "python",
   "nbconvert_exporter": "python",
   "pygments_lexer": "ipython3",
   "version": "3.7.3"
  }
 },
 "nbformat": 4,
 "nbformat_minor": 2
}
