{
 "cells": [
  {
   "cell_type": "code",
   "execution_count": 40,
   "metadata": {},
   "outputs": [],
   "source": [
    "from sympy import *\n",
    "from sympy.abc import x\n",
    "from sympy.polys.polytools import Poly, PurePoly\n",
    "from sympy.polys.numberfields import minpoly\n",
    "from sympy.polys.polytools import pdiv, gcdex\n",
    "from sympy.polys.domains import QQ"
   ]
  },
  {
   "cell_type": "code",
   "execution_count": 3,
   "metadata": {},
   "outputs": [
    {
     "name": "stdout",
     "output_type": "stream",
     "text": [
      "PurePoly(x - 2, x, domain='QQ') PurePoly(5*x - 2, x, domain='QQ')\n"
     ]
    }
   ],
   "source": [
    "expr=sqrt(2)-1\n",
    "min_pol = minpoly(expr,polys=True,domain=QQ)\n",
    "pol2 = PurePoly(x**3,domain=QQ)\n",
    "q,r = div(pol2, min_pol, domain=QQ)\n",
    "print(q,r)"
   ]
  },
  {
   "cell_type": "code",
   "execution_count": 4,
   "metadata": {},
   "outputs": [
    {
     "data": {
      "text/latex": [
       "$\\displaystyle -7 + 5 \\sqrt{2}$"
      ],
      "text/plain": [
       "-7 + 5*sqrt(2)"
      ]
     },
     "execution_count": 4,
     "metadata": {},
     "output_type": "execute_result"
    }
   ],
   "source": [
    "pol2.eval(expr)"
   ]
  },
  {
   "cell_type": "code",
   "execution_count": 47,
   "metadata": {},
   "outputs": [
    {
     "data": {
      "text/plain": [
       "(PurePoly(0, x, domain='ZZ'), PurePoly(x**2, x, domain='ZZ'))"
      ]
     },
     "execution_count": 47,
     "metadata": {},
     "output_type": "execute_result"
    }
   ],
   "source": [
    "expr =((sy_R(9)+sqrt(sy_R(69)))/sy_R(18))**(sy_R(1,3))+((sy_R(9)-sqrt(sy_R(69)))/sy_R(18))**(sy_R(1,3))\n",
    "pol = PurePoly(x**5)\n",
    "quot, rem = pol.div(PurePoly(x**3-x-1))\n",
    "rem.eval(expr)"
   ]
  },
  {
   "cell_type": "code",
   "execution_count": 34,
   "metadata": {},
   "outputs": [
    {
     "data": {
      "text/latex": [
       "$\\displaystyle \\operatorname{PurePoly}{\\left( 0.636363636363636 x + 0.212121212121212, x, domain=\\mathbb{R} \\right)}$"
      ],
      "text/plain": [
       "PurePoly(0.636363636363636*x + 0.212121212121212, x, domain='RR')"
      ]
     },
     "execution_count": 34,
     "metadata": {},
     "output_type": "execute_result"
    }
   ],
   "source": [
    "pol = PurePoly(Rational(1,3)+x)\n",
    "pol * Fraction(7,11)"
   ]
  }
 ],
 "metadata": {
  "kernelspec": {
   "display_name": "Python 3",
   "language": "python",
   "name": "python3"
  },
  "language_info": {
   "codemirror_mode": {
    "name": "ipython",
    "version": 3
   },
   "file_extension": ".py",
   "mimetype": "text/x-python",
   "name": "python",
   "nbconvert_exporter": "python",
   "pygments_lexer": "ipython3",
   "version": "3.7.3"
  }
 },
 "nbformat": 4,
 "nbformat_minor": 2
}
